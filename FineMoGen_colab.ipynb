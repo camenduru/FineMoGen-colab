{
  "cells": [
    {
      "cell_type": "markdown",
      "metadata": {
        "id": "view-in-github"
      },
      "source": [
        "[![Open In Colab](https://colab.research.google.com/assets/colab-badge.svg)](https://colab.research.google.com/github/camenduru/FineMoGen-colab/blob/main/FineMoGen_colab.ipynb)"
      ]
    },
    {
      "cell_type": "code",
      "execution_count": null,
      "metadata": {
        "id": "VjYy0F2gZIPR"
      },
      "outputs": [],
      "source": [
        "%cd /content\n",
        "!git clone -b dev https://github.com/camenduru/FineMoGen\n",
        "%cd /content/FineMoGen\n",
        "\n",
        "!pip install -q https://github.com/camenduru/wheels/releases/download/colab/mmcv_full-1.5.3-cp310-cp310-linux_x86_64.whl\n",
        "!pip install -q https://github.com/camenduru/wheels/releases/download/colab/pytorch3d-0.7.5-cp310-cp310-linux_x86_64.whl\n",
        "!pip install -q git+https://github.com/microsoft/tutel\n",
        "!pip install -q git+https://github.com/openai/CLIP\n",
        "\n",
        "!git clone https://huggingface.co/camenduru/FineMoGen /content/model\n",
        "!mv /content/model/data /content/FineMoGen\n",
        "!mv /content/model/logs /content/FineMoGen\n",
        "!rm -rf /content/model\n",
        "\n",
        "%cd /content/FineMoGen/data/datasets\n",
        "!unzip human_ml3d.zip\n",
        "\n",
        "!pip install -q matplotlib==3.3.4\n",
        "\n",
        "import sys\n",
        "sys.path.append('/content/FineMoGen')"
      ]
    },
    {
      "cell_type": "code",
      "execution_count": null,
      "metadata": {},
      "outputs": [],
      "source": [
        "%cd /content/FineMoGen\n",
        "!python tools/visualize.py \\\n",
        "    configs/finemogen/finemogen_t2m.py \\\n",
        "    logs/finemogen/finemogen_t2m/latest.pth \\\n",
        "    --text \"a person walks 4 steps forward\" \"a person stops and looks around\" \"a perons sits down\" \"a person cries\" \"a person jumps backward\"  \\\n",
        "    --motion_length 60 60 60 60 60 \\\n",
        "    --out \"test.gif\""
      ]
    }
  ],
  "metadata": {
    "accelerator": "GPU",
    "colab": {
      "gpuType": "T4",
      "provenance": []
    },
    "kernelspec": {
      "display_name": "Python 3",
      "name": "python3"
    },
    "language_info": {
      "name": "python"
    }
  },
  "nbformat": 4,
  "nbformat_minor": 0
}
